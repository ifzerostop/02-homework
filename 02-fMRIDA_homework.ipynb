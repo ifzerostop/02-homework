{
 "cells": [
  {
   "cell_type": "markdown",
   "metadata": {},
   "source": [
    "# Advanced fMRI data analysis \n",
    "## fMRI data manipulation and plotting in Python"
   ]
  },
  {
   "cell_type": "markdown",
   "metadata": {},
   "source": [
    "In this assignment, your task is to complete a few exercises related to data manipulation and plotting in Python.\n",
    "\n",
    "You can choose to answer in Polish or English (it will not affect your grade).\n",
    "\n",
    "\n",
    "**DEADLINE:** 10-04-2020\n",
    "\n",
    "--------------------\n"
   ]
  },
  {
   "cell_type": "markdown",
   "metadata": {},
   "source": [
    "**1. Find a one scientific article reporting fMRI findings (search via google Scholar, PubMed). In a paragraph describing fMRI data acquisition, find details about MRI/fMRI scanning parameters such as TR, voxel size, slice thickness, field of view, matrix size, and number of volumes. Fill the information below:**"
   ]
  },
  {
   "cell_type": "markdown",
   "metadata": {},
   "source": [
    "Article (Authors, year, title, journal): ...\n",
    "\n",
    "\n",
    "*Structural scan (T1):*\n",
    "\n",
    "- voxel size = ...\n",
    "- slice thicknes = ...\n",
    "- FOV = ...\n",
    "- matrix size = ...\n",
    "\n",
    "*Functional scan (T2*):*\n",
    "- TR = ...\n",
    "- voxel size = ... \n",
    "- slice thicknes = ...\n",
    "- FOV = ...\n",
    "- matrix size = ... \n",
    "- number of volumes = ... "
   ]
  },
  {
   "cell_type": "markdown",
   "metadata": {},
   "source": [
    "**2. Find a portrait photo (.jpg) of your favourite TV series or movie character (head and shoulders) and complete exercises.**\n",
    "\n",
    "- Crop a photo using online tool (https://www.iloveimg.com/crop-image) to size 400 x 400 (face has to be in the center of image)\n",
    "- Manipulate the image in python (fill code below)"
   ]
  },
  {
   "cell_type": "code",
   "execution_count": 21,
   "metadata": {},
   "outputs": [],
   "source": [
    "# Load libraries\n",
    "\n",
    "\n",
    "# Load the image \n",
    "\n",
    "\n",
    "# Create a new variable containing only the first (RED) channel of image (e.g. new_image = image[:,:,0])\n",
    "\n",
    "\n",
    "# Print shape and type of the image\n",
    "\n",
    "\n",
    "# Plot the new image using plt.imshow with changed cmap and colorbar\n",
    "\n",
    "\n",
    "# Save the new image as numpy array (use np.save())\n",
    "\n"
   ]
  },
  {
   "cell_type": "markdown",
   "metadata": {},
   "source": [
    "Example solution: \n",
    "\n",
    "<img style=\"float: left\" img src=\"images/screenshot_solution.png\" width=\"300\" >\n"
   ]
  },
  {
   "cell_type": "markdown",
   "metadata": {},
   "source": [
    "**3. Load structural (T1) MRI image in python and visualize a one sagittal brain section that nicely presents the hippocampus.**"
   ]
  },
  {
   "cell_type": "code",
   "execution_count": 27,
   "metadata": {},
   "outputs": [],
   "source": [
    "# Load libraries\n",
    "\n",
    "\n",
    "# Load MRI image in python (.nii file in \"data\" folder)\n",
    "\n",
    "\n",
    "# Print shape and type of the image\n",
    "\n",
    "\n",
    "# Plot sagittal section of the MRI image presenting the hippocampus\n",
    "\n"
   ]
  },
  {
   "cell_type": "markdown",
   "metadata": {},
   "source": [
    "**4. Use pandas to load the most recent Covid-19 data (the cumulative number of deaths) in .csv format (https://github.com/nicebread/corona/tree/master/data/CSSE_data; e.g. CSSE_deaths_2020-03-26.csv) and visualize *timeseries* from 5 selected countries.** \n"
   ]
  },
  {
   "cell_type": "code",
   "execution_count": null,
   "metadata": {},
   "outputs": [],
   "source": [
    "# Load libraries\n",
    "\n",
    "\n",
    "# Load .csv data frame in python \n",
    "\n",
    "\n",
    "# Print first 5 rows of data\n",
    "\n"
   ]
  },
  {
   "cell_type": "code",
   "execution_count": 17,
   "metadata": {},
   "outputs": [],
   "source": [
    "# Group by country & sum cases\n",
    "\n",
    "\n",
    "# Print last 5 rows of grouped data\n",
    "\n"
   ]
  },
  {
   "cell_type": "code",
   "execution_count": null,
   "metadata": {},
   "outputs": [],
   "source": [
    "# Write a simple loop (or a function) that plots cumulative deaths from 5 selected countries\n",
    "\n"
   ]
  },
  {
   "cell_type": "markdown",
   "metadata": {},
   "source": [
    "**5*. (optional; for magical points) Use MRI/fMRI data to create a visualization for a logo of our \"Advanced fMRI analysis\" course GitHub page (https://github.com/fMRIAnalysisCourse)**"
   ]
  },
  {
   "cell_type": "code",
   "execution_count": 24,
   "metadata": {},
   "outputs": [],
   "source": [
    "# Optional code\n",
    "\n"
   ]
  }
 ],
 "metadata": {
  "kernelspec": {
   "display_name": "Python 3",
   "language": "python",
   "name": "python3"
  },
  "language_info": {
   "codemirror_mode": {
    "name": "ipython",
    "version": 3
   },
   "file_extension": ".py",
   "mimetype": "text/x-python",
   "name": "python",
   "nbconvert_exporter": "python",
   "pygments_lexer": "ipython3",
   "version": "3.7.3"
  }
 },
 "nbformat": 4,
 "nbformat_minor": 2
}
